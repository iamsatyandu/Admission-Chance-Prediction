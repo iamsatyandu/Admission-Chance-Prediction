{
 "cells": [
  {
   "cell_type": "code",
   "execution_count": 1,
   "metadata": {},
   "outputs": [],
   "source": [
    "import pandas as pd  # for Dataset\n",
    "import matplotlib.pyplot as plt # for visualization\n",
    "import seaborn as sns # for visualization\n",
    "import tkinter as tk # for GUI\n",
    "from tkinter import *"
   ]
  },
  {
   "cell_type": "code",
   "execution_count": 2,
   "metadata": {},
   "outputs": [
    {
     "data": {
      "text/plain": [
       "''"
      ]
     },
     "execution_count": 2,
     "metadata": {},
     "output_type": "execute_result"
    }
   ],
   "source": [
    "master = tk.Tk()\n",
    "master.title(\"Input Window\") # Title of window\n",
    "master.configure(background = \"#1A5276\") # Background color\n",
    "master.iconbitmap('iconfinder_Analytics.ico') # Window Logo\n",
    "master.resizable(width = False, height = False)  # to fix size of window "
   ]
  },
  {
   "cell_type": "code",
   "execution_count": 3,
   "metadata": {},
   "outputs": [],
   "source": [
    "df = pd.read_csv('Admission Prediction 11.csv') # path of CSV file\n",
    "a = df.head(n=15)"
   ]
  },
  {
   "cell_type": "markdown",
   "metadata": {},
   "source": [
    "# Spliting of Data to Train in Logistic Regression\n"
   ]
  },
  {
   "cell_type": "code",
   "execution_count": 4,
   "metadata": {},
   "outputs": [],
   "source": [
    "X = df[['GRE Score','TOEFL Score','University Rating','SOP','CGPA','Research']]\n",
    "y = df['Chance of Admission']"
   ]
  },
  {
   "cell_type": "code",
   "execution_count": 5,
   "metadata": {},
   "outputs": [],
   "source": [
    "from sklearn.model_selection import train_test_split\n",
    "X_train,X_test,y_train,y_test = train_test_split(X,y,test_size = 0.2,random_state = 101)  #training method\n",
    "# Test_size will give '20%' of data to test file."
   ]
  },
  {
   "cell_type": "code",
   "execution_count": 6,
   "metadata": {},
   "outputs": [
    {
     "name": "stderr",
     "output_type": "stream",
     "text": [
      "C:\\ProgramData\\Anaconda3\\lib\\site-packages\\sklearn\\linear_model\\_logistic.py:762: ConvergenceWarning: lbfgs failed to converge (status=1):\n",
      "STOP: TOTAL NO. of ITERATIONS REACHED LIMIT.\n",
      "\n",
      "Increase the number of iterations (max_iter) or scale the data as shown in:\n",
      "    https://scikit-learn.org/stable/modules/preprocessing.html\n",
      "Please also refer to the documentation for alternative solver options:\n",
      "    https://scikit-learn.org/stable/modules/linear_model.html#logistic-regression\n",
      "  n_iter_i = _check_optimize_result(\n"
     ]
    },
    {
     "data": {
      "text/plain": [
       "LogisticRegression()"
      ]
     },
     "execution_count": 6,
     "metadata": {},
     "output_type": "execute_result"
    }
   ],
   "source": [
    "from sklearn.linear_model import LogisticRegression\n",
    "lm = LogisticRegression() # Import LogisticRegression\n",
    "lm.fit(X_train,y_train) # Syntax to fit the our data in LogisticRegression"
   ]
  },
  {
   "cell_type": "markdown",
   "metadata": {},
   "source": [
    "# PREDICTION"
   ]
  },
  {
   "cell_type": "code",
   "execution_count": 7,
   "metadata": {},
   "outputs": [],
   "source": [
    "def predict() :\n",
    "    g = float(gre.get())\n",
    "    t = float(toefl.get())\n",
    "    u = float(ur.get())\n",
    "    s = float(sop.get())\n",
    "    c = float(cgpa.get())\n",
    "    r = float(rs.get())"
   ]
  },
  {
   "cell_type": "code",
   "execution_count": 8,
   "metadata": {},
   "outputs": [
    {
     "ename": "NameError",
     "evalue": "name 'g' is not defined",
     "output_type": "error",
     "traceback": [
      "\u001b[1;31m---------------------------------------------------------------------------\u001b[0m",
      "\u001b[1;31mNameError\u001b[0m                                 Traceback (most recent call last)",
      "\u001b[1;32m<ipython-input-8-5039da3abb01>\u001b[0m in \u001b[0;36m<module>\u001b[1;34m\u001b[0m\n\u001b[1;32m----> 1\u001b[1;33m \u001b[1;32mif\u001b[0m \u001b[1;33m(\u001b[0m\u001b[0mg\u001b[0m\u001b[1;33m>\u001b[0m\u001b[1;36m260\u001b[0m \u001b[1;32mand\u001b[0m \u001b[0mt\u001b[0m\u001b[1;33m>\u001b[0m\u001b[1;36m70\u001b[0m \u001b[1;32mand\u001b[0m \u001b[0mc\u001b[0m\u001b[1;33m>\u001b[0m\u001b[1;36m6.9\u001b[0m\u001b[1;33m)\u001b[0m\u001b[1;33m:\u001b[0m\u001b[1;33m\u001b[0m\u001b[1;33m\u001b[0m\u001b[0m\n\u001b[0m\u001b[0;32m      2\u001b[0m        \u001b[0mprediction\u001b[0m \u001b[1;33m=\u001b[0m \u001b[0mlm\u001b[0m\u001b[1;33m.\u001b[0m\u001b[0mpredict\u001b[0m\u001b[1;33m(\u001b[0m\u001b[0mX_test\u001b[0m\u001b[1;33m)\u001b[0m\u001b[1;33m\u001b[0m\u001b[1;33m\u001b[0m\u001b[0m\n\u001b[0;32m      3\u001b[0m        \u001b[0mprediction1\u001b[0m \u001b[1;33m=\u001b[0m \u001b[0mlm\u001b[0m\u001b[1;33m.\u001b[0m\u001b[0mpredict\u001b[0m\u001b[1;33m(\u001b[0m\u001b[1;33m[\u001b[0m\u001b[1;33m[\u001b[0m\u001b[0mg\u001b[0m\u001b[1;33m,\u001b[0m\u001b[0mt\u001b[0m\u001b[1;33m,\u001b[0m\u001b[0mu\u001b[0m\u001b[1;33m,\u001b[0m\u001b[0ms\u001b[0m\u001b[1;33m,\u001b[0m\u001b[0mc\u001b[0m\u001b[1;33m,\u001b[0m\u001b[0mr\u001b[0m\u001b[1;33m]\u001b[0m\u001b[1;33m]\u001b[0m\u001b[1;33m)\u001b[0m\u001b[1;33m\u001b[0m\u001b[1;33m\u001b[0m\u001b[0m\n\u001b[0;32m      4\u001b[0m        \u001b[1;31m#l= tk.Label(master, text=\"Chance of Admission :\",width=25,height = 4,bg = \"#1A5276\",fg = \"WHITE\",font = \"Candara\").grid(row=8)\u001b[0m\u001b[1;33m\u001b[0m\u001b[1;33m\u001b[0m\u001b[1;33m\u001b[0m\u001b[0m\n\u001b[0;32m      5\u001b[0m \u001b[1;33m\u001b[0m\u001b[0m\n",
      "\u001b[1;31mNameError\u001b[0m: name 'g' is not defined"
     ]
    }
   ],
   "source": [
    "if (g>260 and t>70 and c>6.9):\n",
    "       prediction = lm.predict(X_test)\n",
    "       prediction1 = lm.predict([[g,t,u,s,c,r]])\n",
    "       #l= tk.Label(master, text=\"Chance of Admission :\",width=25,height = 4,bg = \"#1A5276\",fg = \"WHITE\",font = \"Candara\").grid(row=8)\n",
    "   \n",
    "       if (prediction1 == 1):\n",
    "           prd = \"YES\"\n",
    "           \n",
    "       elif(prediction1 == 0):\n",
    "           prd = \"NO\"\n",
    "           \n",
    "       else:\n",
    "           prd = '\\0'\n",
    "        \n",
    "       p= tk.Label(master, text=\"Chance of Admission :\" + str(prd),width=25,height = 4,bg = \"#1A5276\",fg = \"WHITE\",font = \"Candara\").grid(row=8, column=0)\n",
    "\n",
    "       plt.xlabel('Y Test')\n",
    "       plt.ylabel('Predicted Y')\n",
    "       \n",
    "else:\n",
    "       p= tk.Label(master, text=\"The candidate is not eligible.\",width=25,height = 4, bg = \"#1A5276\",fg = \"WHITE\",font = \"Candara\").grid(row=8, column=0)"
   ]
  },
  {
   "cell_type": "code",
   "execution_count": 9,
   "metadata": {},
   "outputs": [],
   "source": [
    "gre=tk.StringVar()\n",
    "toefl=tk.StringVar()\n",
    "ur=tk.StringVar()\n",
    "sop=tk.StringVar()\n",
    "cgpa=tk.StringVar()\n",
    "rs=tk.StringVar()"
   ]
  },
  {
   "cell_type": "code",
   "execution_count": 10,
   "metadata": {},
   "outputs": [],
   "source": [
    "l1= tk.Label(master, text=\"GRE Score\",width=22,height = 3,bg = \"#1A5276\" ,fg = \"WHITE\",font = \"Candara\").grid(row=0)\n",
    "l2= tk.Label(master, text=\"TOEFL Score\",width=22,height = 3,bg = \"#1A5276\",fg = \"WHITE\",font = \"Candara\").grid(row=1)\n",
    "l3= tk.Label(master, text=\"University Rating\",width=22,height = 3,bg = \"#1A5276\",fg = \"WHITE\",font = \"Candara\").grid(row=2)\n",
    "l4= tk.Label(master, text=\"SOP Rating\",width=22,height = 3,bg = \"#1A5276\",fg = \"WHITE\",font = \"Candara\").grid(row=3)\n",
    "l5= tk.Label(master, text=\"CGPA\",width=22,height = 3,bg = \"#1A5276\",fg = \"WHITE\",font = \"Candara\").grid(row=4)\n",
    "l6= tk.Label(master, text=\"Research\",width=22,height = 3,bg = \"#1A5276\",fg = \"WHITE\",font = \"Candara\").grid(row=5)"
   ]
  },
  {
   "cell_type": "code",
   "execution_count": 11,
   "metadata": {},
   "outputs": [],
   "source": [
    "e1 = tk.Entry(master, textvariable = gre,width=27).grid(row=0, column=1)\n",
    "e2 = tk.Entry(master, textvariable = toefl,width=27).grid(row=1, column=1)\n",
    "e3 = tk.Entry(master, textvariable = ur,width=27).grid(row=2, column=1)\n",
    "e4 = tk.Entry(master, textvariable = sop,width=27).grid(row=3, column=1)\n",
    "e5 = tk.Entry(master, textvariable = cgpa,width=27).grid(row=4, column=1)\n",
    "e6 = tk.Entry(master, textvariable = rs,width=27).grid(row=5, column=1)"
   ]
  },
  {
   "cell_type": "code",
   "execution_count": 12,
   "metadata": {},
   "outputs": [],
   "source": [
    "def analysis():\n",
    "    \n",
    "    root = Tk()\n",
    "    root.configure(background = \"#1A5276\") # Background color          \n",
    "    root.title(\"ANALYSIS OF DATASET\") # Title of window\n",
    "    root.iconbitmap('iconfinder_Graph-Magnifier.ico') # Window Logo"
   ]
  },
  {
   "cell_type": "code",
   "execution_count": 13,
   "metadata": {},
   "outputs": [],
   "source": [
    " def Img():\n",
    "    \n",
    "        r = Toplevel()\n",
    "        r.configure(background = \"#1A5276\")\n",
    "        r.title(\"HEATMAP\")\n",
    "     \n",
    "        text = Label(r, text=\"THE BELOW GIVEN HEATMAP WILL TELL US ABOUT CORRELATION BETWEEN ALL COLUMNS:-\\n\\n• The 3 most important features for Admission: CGPA, GRE & TOEFL SCORE.\\n• The 3 least important features for Admission: Research and SOP.\",bg = \"#1A5276\" ,fg = \"WHITE\",font = \"Candara\")\n",
    "        text.pack()\n",
    "\n",
    "        canvas = Canvas(r, height=680, width=680)\n",
    "        canvas.pack()\n",
    "        my_image = PhotoImage(file='Figure_0.png', master= master)\n",
    "        canvas.create_image(0, 0, anchor=NW, image=my_image)\n",
    "        r.mainloop()"
   ]
  },
  {
   "cell_type": "code",
   "execution_count": 14,
   "metadata": {},
   "outputs": [],
   "source": [
    " def Img1():\n",
    "    \n",
    "        r1 = Toplevel()\n",
    "        r1.configure(background = \"#1A5276\")\n",
    "        r1.title(\"Research Experience Analysis\") \n",
    "    \n",
    "        text1 = Label(r1, text = 'Having Research or not:\\n\\n•  The majority of the candidates in the dataset have research experience.\\n•  Therefore, the Research will be an unimportant feature for the Chance of Admission.\\n',bg = \"#1A5276\" ,fg = \"WHITE\",font = \"Candara\")\n",
    "        text1.pack()\n",
    "\n",
    "        canvas1 = Canvas(r1, height=480, width=625)\n",
    "        canvas1.pack()\n",
    "        my_image1 = PhotoImage(file='Figure_1.png', master= master)\n",
    "        canvas1.create_image(0, 0, anchor=NW, image=my_image1)\n",
    "        r1.mainloop()"
   ]
  },
  {
   "cell_type": "code",
   "execution_count": 15,
   "metadata": {},
   "outputs": [],
   "source": [
    "    def Img2():\n",
    "    \n",
    "        r2 = Toplevel()\n",
    "        r2.configure(background = \"#1A5276\")\n",
    "        r2.title(\"TOEFL Score Analysis\")\n",
    "    \n",
    "    \n",
    "        text2 = Label(r2, text = 'TOEFL Score:\\n\\n • The lowest TOEFL score is 92 and the highest Toefl score is 120. The average is 107.41.\\n',bg = \"#1A5276\" ,fg = \"WHITE\",font = \"Candara\")\n",
    "        text2.pack()\n",
    "\n",
    "        canvas2 = Canvas(r2, height=480, width=630)\n",
    "        canvas2.pack()\n",
    "        my_image2 = PhotoImage(file='Figure_2.png', master = master)\n",
    "        canvas2.create_image(0, 0, anchor=NW, image=my_image2)\n",
    "        r2.mainloop()   "
   ]
  },
  {
   "cell_type": "code",
   "execution_count": 16,
   "metadata": {},
   "outputs": [],
   "source": [
    " def Img3():\n",
    "    \n",
    "        r3 = Toplevel()\n",
    "        r3.configure(background = \"#1A5276\")\n",
    "        r3.title(\"GRE Score Analysis\")\n",
    "    \n",
    "    \n",
    "        text3 = Label(r3, text = 'GRE Score:\\n\\n • This histogram shows the frequency for GRE scores.\\n• There is a density between 310 and 330. Being above this range would be a good feature for a candidate to stand out.\\n',bg = \"#1A5276\" ,fg = \"WHITE\",font = \"Candara\")\n",
    "        text3.pack()\n",
    "\n",
    "        canvas3 = Canvas(r3, height=600, width=630)\n",
    "        canvas3.pack()\n",
    "        my_image3 = PhotoImage(file='Figure_3.png', master = master)\n",
    "        canvas3.create_image(0, 0, anchor=NW, image=my_image3)\n",
    "        r3.mainloop()    \n"
   ]
  },
  {
   "cell_type": "code",
   "execution_count": 17,
   "metadata": {},
   "outputs": [],
   "source": [
    "def Img4():\n",
    "    \n",
    "        r4 = Toplevel()\n",
    "        r4.configure(background = \"#1A5276\")\n",
    "        r4.title(\"CGPA Score Analysis_1\")\n",
    "    \n",
    "    \n",
    "        text4 = Label(r4, text = 'CGPA Scores for University Ratings:\\n\\n• As the quality of the university increases, the CGPA score increases.\\n',bg = \"#1A5276\" ,fg = \"WHITE\",font = \"Candara\")\n",
    "        text4.pack()\n",
    "\n",
    "        canvas4 = Canvas(r4, height=480, width=600)\n",
    "        canvas4.pack()\n",
    "        my_image4 = PhotoImage(file='Figure_4.png', master = master)\n",
    "        canvas4.create_image(0, 0, anchor=NW, image=my_image4)\n",
    "        r4.mainloop()    "
   ]
  },
  {
   "cell_type": "code",
   "execution_count": 18,
   "metadata": {},
   "outputs": [],
   "source": [
    "def Img5():\n",
    "    \n",
    "        r5 = Toplevel()\n",
    "        r5.configure(background = \"#1A5276\")\n",
    "        r5.title(\"CGPA Score Analysis_2\")\n",
    "    \n",
    "    \n",
    "        text5 = Label(r5, text = '• Candidates with high GRE scores usually have a high CGPA score.\\n',bg = \"#1A5276\" ,fg = \"WHITE\",font = \"Candara\")\n",
    "        text5.pack()\n",
    "\n",
    "        canvas5 = Canvas(r5, height=450, width=575)\n",
    "        canvas5.pack()\n",
    "        my_image5 = PhotoImage(file='Figure_5.png', master = master)\n",
    "        canvas5.create_image(0, 0, anchor=NW, image=my_image5)\n",
    "        r5.mainloop()    \n"
   ]
  },
  {
   "cell_type": "code",
   "execution_count": 19,
   "metadata": {},
   "outputs": [],
   "source": [
    "def Img6():\n",
    "    \n",
    "        r6 = Toplevel()\n",
    "        r6.configure(background = \"#1A5276\")\n",
    "        r6.title(\"University Rating Analysis\")\n",
    "    \n",
    "        text6 = Label(r6, text = '• Candidates who graduate from good universities are more fortunate to be accepted.\\n',bg = \"#1A5276\" ,fg = \"WHITE\",font = \"Candara\")\n",
    "        text6.pack()\n",
    "\n",
    "        canvas6 = Canvas(r6, height=450, width=980)\n",
    "        canvas6.pack()\n",
    "        my_image6 = PhotoImage(file='Figure_7.png', master = master)\n",
    "        canvas6.create_image(0, 0, anchor=NW, image=my_image6)\n",
    "        r6.mainloop()   "
   ]
  },
  {
   "cell_type": "code",
   "execution_count": 20,
   "metadata": {},
   "outputs": [],
   "source": [
    "def Img7():\n",
    "    \n",
    "        r7 = Toplevel()\n",
    "        r7.configure(background = \"#1A5276\")\n",
    "        r7.title(\"SOP vs CGPA\")\n",
    "    \n",
    "        text7 = Label(r7, text = '• Candidates with high CGPA scores usually have a high SOP score.\\n',bg = \"#1A5276\" ,fg = \"WHITE\",font = \"Candara\")\n",
    "        text7.pack()\n",
    "\n",
    "        canvas7 = Canvas(r7, height=480, width=600)\n",
    "        canvas7.pack()\n",
    "        my_image7 = PhotoImage(file='Figure_8.png', master = master)\n",
    "        canvas7.create_image(0, 0, anchor=NW, image=my_image7)\n",
    "        r7.mainloop()    \n"
   ]
  },
  {
   "cell_type": "code",
   "execution_count": 21,
   "metadata": {},
   "outputs": [],
   "source": [
    "def Img8():\n",
    "    \n",
    "        r8 = Toplevel()\n",
    "        r8.configure(background = \"#1A5276\") \n",
    "        r8.title(\"SOP vs GRE Score\")\n",
    "                     \n",
    "        text8 = Label(r8, text = '• Candidates with high CGPA scores usually have a high SOP score.\\n',bg = \"#1A5276\" ,fg = \"WHITE\",font = \"Candara\")\n",
    "        text8.pack()\n",
    "    \n",
    "        canvas8 = Canvas(r8, height=480, width=600)\n",
    "        canvas8.pack()\n",
    "        my_image8 = PhotoImage(file='Figure_9.png', master = master)\n",
    "        canvas8.create_image(0, 0, anchor=NW, image=my_image8)\n",
    "        r8.mainloop()  "
   ]
  },
  {
   "cell_type": "code",
   "execution_count": 22,
   "metadata": {},
   "outputs": [
    {
     "ename": "NameError",
     "evalue": "name 'root' is not defined",
     "output_type": "error",
     "traceback": [
      "\u001b[1;31m---------------------------------------------------------------------------\u001b[0m",
      "\u001b[1;31mNameError\u001b[0m                                 Traceback (most recent call last)",
      "\u001b[1;32m<ipython-input-22-ac79cb0d2412>\u001b[0m in \u001b[0;36m<module>\u001b[1;34m\u001b[0m\n\u001b[1;32m----> 1\u001b[1;33m \u001b[0mbtn\u001b[0m \u001b[1;33m=\u001b[0m \u001b[0mButton\u001b[0m\u001b[1;33m(\u001b[0m\u001b[0mroot\u001b[0m\u001b[1;33m,\u001b[0m \u001b[0mtext\u001b[0m \u001b[1;33m=\u001b[0m \u001b[1;34m\"Correlation Between All Columns\"\u001b[0m\u001b[1;33m,\u001b[0m\u001b[0mwidth\u001b[0m\u001b[1;33m=\u001b[0m\u001b[1;36m32\u001b[0m\u001b[1;33m,\u001b[0m\u001b[0mheight\u001b[0m \u001b[1;33m=\u001b[0m \u001b[1;36m3\u001b[0m\u001b[1;33m,\u001b[0m\u001b[0mfont\u001b[0m \u001b[1;33m=\u001b[0m \u001b[1;34m\"Copperplate_Gothic\"\u001b[0m\u001b[1;33m,\u001b[0m \u001b[0mfg\u001b[0m \u001b[1;33m=\u001b[0m \u001b[1;34m\"WHITE\"\u001b[0m\u001b[1;33m,\u001b[0m\u001b[0mbg\u001b[0m \u001b[1;33m=\u001b[0m \u001b[1;34m\"#C0392B\"\u001b[0m\u001b[1;33m,\u001b[0m \u001b[0mcommand\u001b[0m \u001b[1;33m=\u001b[0m \u001b[0mImg\u001b[0m\u001b[1;33m)\u001b[0m\u001b[1;33m\u001b[0m\u001b[1;33m\u001b[0m\u001b[0m\n\u001b[0m\u001b[0;32m      2\u001b[0m \u001b[0mbtn\u001b[0m\u001b[1;33m.\u001b[0m\u001b[0mgrid\u001b[0m\u001b[1;33m(\u001b[0m\u001b[0mrow\u001b[0m \u001b[1;33m=\u001b[0m \u001b[1;36m0\u001b[0m\u001b[1;33m,\u001b[0m \u001b[0mcolumn\u001b[0m \u001b[1;33m=\u001b[0m \u001b[1;36m0\u001b[0m\u001b[1;33m)\u001b[0m\u001b[1;33m\u001b[0m\u001b[1;33m\u001b[0m\u001b[0m\n\u001b[0;32m      3\u001b[0m \u001b[1;33m\u001b[0m\u001b[0m\n\u001b[0;32m      4\u001b[0m \u001b[0mbtn1\u001b[0m \u001b[1;33m=\u001b[0m \u001b[0mButton\u001b[0m\u001b[1;33m(\u001b[0m\u001b[0mroot\u001b[0m\u001b[1;33m,\u001b[0m \u001b[0mtext\u001b[0m \u001b[1;33m=\u001b[0m \u001b[1;34m\"Research Experience Analysis\"\u001b[0m\u001b[1;33m,\u001b[0m\u001b[0mwidth\u001b[0m\u001b[1;33m=\u001b[0m\u001b[1;36m32\u001b[0m\u001b[1;33m,\u001b[0m\u001b[0mheight\u001b[0m \u001b[1;33m=\u001b[0m \u001b[1;36m3\u001b[0m\u001b[1;33m,\u001b[0m\u001b[0mfont\u001b[0m \u001b[1;33m=\u001b[0m \u001b[1;34m\"Copperplate_Gothic\"\u001b[0m\u001b[1;33m,\u001b[0m \u001b[0mfg\u001b[0m \u001b[1;33m=\u001b[0m \u001b[1;34m\"WHITE\"\u001b[0m\u001b[1;33m,\u001b[0m\u001b[0mbg\u001b[0m \u001b[1;33m=\u001b[0m \u001b[1;34m\"#C0392B\"\u001b[0m\u001b[1;33m,\u001b[0m \u001b[0mcommand\u001b[0m \u001b[1;33m=\u001b[0m \u001b[0mImg1\u001b[0m\u001b[1;33m)\u001b[0m\u001b[1;33m\u001b[0m\u001b[1;33m\u001b[0m\u001b[0m\n\u001b[0;32m      5\u001b[0m \u001b[0mbtn1\u001b[0m\u001b[1;33m.\u001b[0m\u001b[0mgrid\u001b[0m\u001b[1;33m(\u001b[0m\u001b[0mrow\u001b[0m \u001b[1;33m=\u001b[0m \u001b[1;36m1\u001b[0m\u001b[1;33m,\u001b[0m \u001b[0mcolumn\u001b[0m \u001b[1;33m=\u001b[0m \u001b[1;36m1\u001b[0m\u001b[1;33m)\u001b[0m\u001b[1;33m\u001b[0m\u001b[1;33m\u001b[0m\u001b[0m\n",
      "\u001b[1;31mNameError\u001b[0m: name 'root' is not defined"
     ]
    }
   ],
   "source": [
    "    btn = Button(root, text = \"Correlation Between All Columns\",width=32,height = 3,font = \"Copperplate_Gothic\", fg = \"WHITE\",bg = \"#C0392B\", command = Img)\n",
    "    btn.grid(row = 0, column = 0)\n",
    "    \n",
    "    btn1 = Button(root, text = \"Research Experience Analysis\",width=32,height = 3,font = \"Copperplate_Gothic\", fg = \"WHITE\",bg = \"#C0392B\", command = Img1)\n",
    "    btn1.grid(row = 1, column = 1)\n",
    "\n",
    "    btn2 = Button(root, text = \"TOEFL Score Analysis\",width=32,height = 3,font = \"Copperplate_Gothic\", fg = \"WHITE\",bg = \"#C0392B\", command = Img2)\n",
    "    btn2.grid(row = 2, column = 0)\n",
    "\n",
    "    btn3 = Button(root, text = \"GRE Score Analysis\", width=32,height = 3,font = \"Copperplate_Gothic\", fg = \"WHITE\",bg = \"#C0392B\",command = Img3)\n",
    "    btn3.grid(row = 3, column = 1)\n",
    "\n",
    "    btn4 = Button(root, text = \"CGPA Score Analysis_1\",width=32,height = 3,font = \"Copperplate_Gothic\", fg = \"WHITE\",bg = \"#C0392B\", command = Img4)\n",
    "    btn4.grid(row = 4, column = 0)\n",
    "\n",
    "    btn5 = Button(root, text = \"CGPA Score Analysis_2\",width=32,height = 3,font = \"Copperplate_Gothic\", fg = \"WHITE\",bg = \"#C0392B\", command = Img5)\n",
    "    btn5.grid(row = 5, column = 1)\n",
    "\n",
    "    btn6 = Button(root, text = \"University Rating Analysis\",width=32,height = 3,font = \"Copperplate_Gothic\", fg = \"WHITE\",bg = \"#C0392B\", command = Img6)\n",
    "    btn6.grid(row = 6, column = 0)\n",
    "\n",
    "    btn7 = Button(root, text = \"SOP vs CGPA\",width=32,height = 3,font = \"Copperplate_Gothic\", fg = \"WHITE\",bg = \"#C0392B\", command = Img7)\n",
    "    btn7.grid(row = 7, column = 1)\n",
    "\n",
    "    btn8 = Button(root, text = \"SOP vs GRE Score\",width=32,height = 3,font = \"Copperplate_Gothic\", fg = \"WHITE\",bg = \"#C0392B\", command = Img8)\n",
    "    btn8.grid(row = 8, column = 0)"
   ]
  },
  {
   "cell_type": "code",
   "execution_count": 23,
   "metadata": {},
   "outputs": [
    {
     "ename": "NameError",
     "evalue": "name 'root' is not defined",
     "output_type": "error",
     "traceback": [
      "\u001b[1;31m---------------------------------------------------------------------------\u001b[0m",
      "\u001b[1;31mNameError\u001b[0m                                 Traceback (most recent call last)",
      "\u001b[1;32m<ipython-input-23-328b6b20a474>\u001b[0m in \u001b[0;36m<module>\u001b[1;34m\u001b[0m\n\u001b[1;32m----> 1\u001b[1;33m \u001b[0mroot\u001b[0m\u001b[1;33m.\u001b[0m\u001b[0mmainloop\u001b[0m\u001b[1;33m(\u001b[0m\u001b[1;33m)\u001b[0m\u001b[1;33m\u001b[0m\u001b[1;33m\u001b[0m\u001b[0m\n\u001b[0m",
      "\u001b[1;31mNameError\u001b[0m: name 'root' is not defined"
     ]
    }
   ],
   "source": [
    " root.mainloop()"
   ]
  },
  {
   "cell_type": "code",
   "execution_count": 24,
   "metadata": {},
   "outputs": [],
   "source": [
    "btn = tk.Button(master, text = 'Predict', width=32,height = 3,font = \"Copperplate_Gothic\", fg = \"WHITE\",bg = \"#C0392B\" , command = predict).grid(row = 6, column = 1)\n",
    "btn1 = tk.Button(master, text = 'Analyse', width=32,height = 3,font = \"Copperplate_Gothic\", fg = \"WHITE\",bg = \"#C0392B\" , command = analysis).grid(row = 6, column = 0)\n"
   ]
  },
  {
   "cell_type": "code",
   "execution_count": 25,
   "metadata": {},
   "outputs": [],
   "source": [
    "master.mainloop()"
   ]
  },
  {
   "cell_type": "code",
   "execution_count": null,
   "metadata": {},
   "outputs": [],
   "source": []
  },
  {
   "cell_type": "code",
   "execution_count": null,
   "metadata": {},
   "outputs": [],
   "source": []
  }
 ],
 "metadata": {
  "kernelspec": {
   "display_name": "Python 3",
   "language": "python",
   "name": "python3"
  },
  "language_info": {
   "codemirror_mode": {
    "name": "ipython",
    "version": 3
   },
   "file_extension": ".py",
   "mimetype": "text/x-python",
   "name": "python",
   "nbconvert_exporter": "python",
   "pygments_lexer": "ipython3",
   "version": "3.8.5"
  }
 },
 "nbformat": 4,
 "nbformat_minor": 4
}
